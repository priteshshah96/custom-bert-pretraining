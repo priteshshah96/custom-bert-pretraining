{
 "cells": [
  {
   "cell_type": "markdown",
   "metadata": {},
   "source": [
    "# Dataset Inspection Notebook\n",
    "\n",
    "This notebook is designed to inspect the train and test splits of your dataset.\n",
    "It allows you to load the dataset from disk and display a few examples from each split.\n"
   ]
  },
  {
   "cell_type": "code",
   "execution_count": 11,
   "metadata": {},
   "outputs": [],
   "source": [
    "from pathlib import Path\n",
    "from datasets import load_from_disk\n"
   ]
  },
  {
   "cell_type": "code",
   "execution_count": 17,
   "metadata": {},
   "outputs": [],
   "source": [
    "# Define the paths relative to the project root (assumes the notebook is in the \"notebooks\" folder)\n",
    "PROJECT_ROOT = Path().resolve().parent  # Parent directory of \"notebooks\"\n",
    "TRAIN_SPLIT_DIR = PROJECT_ROOT / \"data/split/train\"\n",
    "TEST_SPLIT_DIR = PROJECT_ROOT / \"data/split/test\"\n",
    "# Check if the train and test split directories exist\n",
    "if not TRAIN_SPLIT_DIR.exists():\n",
    "    print(f\"Train split not found at {TRAIN_SPLIT_DIR}\")\n",
    "if not TEST_SPLIT_DIR.exists():\n",
    "    print(f\"Test split not found at {TEST_SPLIT_DIR}\")\n"
   ]
  },
  {
   "cell_type": "code",
   "execution_count": 19,
   "metadata": {},
   "outputs": [],
   "source": [
    "def load_and_inspect(split_dir, num_examples=5):\n",
    "    \"\"\"\n",
    "    Load and display examples from a dataset split.\n",
    "\n",
    "    Args:\n",
    "        split_dir (Path): Path to the dataset split directory.\n",
    "        num_examples (int): Number of examples to display.\n",
    "    \"\"\"\n",
    "    print(f\"Loading dataset from: {split_dir}\")\n",
    "    dataset = load_from_disk(split_dir)\n",
    "\n",
    "    print(f\"Dataset contains {len(dataset)} examples.\")\n",
    "    print(f\"Displaying {num_examples} examples:\")\n",
    "    for i, example in enumerate(dataset[\"text\"][:num_examples]):\n",
    "        print(f\"Example {i + 1}:\\n{example}\")\n",
    "        print(\"=\" * 50)\n"
   ]
  },
  {
   "cell_type": "code",
   "execution_count": 20,
   "metadata": {},
   "outputs": [
    {
     "name": "stdout",
     "output_type": "stream",
     "text": [
      "Inspecting Train Split:\n",
      "Loading dataset from: C:\\Users\\prite\\Desktop\\custom-bert-pretraining\\data\\split\\train\n",
      "Dataset contains 637416 examples.\n",
      "Displaying 5 examples:\n",
      "Example 1:\n",
      "Follow Jeff Add to circle\n",
      "Rolls-Royce is embracing its dark side. The British automaker is on a quest to expand its bespoke offerings, and the Black Badge cars are part of this journey. Now there's a handful of new members in the group and you can refer to them as the Adamas Collection.\n",
      "There will be 40 Wraiths and 30 Dawns that receive the Adamas treatment. What that entails is a whole lot of darkness, and the results are stunning. Right away you'll find a Spirit of Ecstasy that's not the shining example of luxury you expect to find. Instead, the lovely lady has been machined from carbon fiber. This is the first time that Rolls has ever crafted its iconic leading woman in the light yet strong material. She's comprised of 294 layers of aerospace grade carbon fiber and it takes 68 hours for her form to take shape.\n",
      "The main tone is black for the exterior skin as well, but the cars are finished with either an Aphrodite Red or Morpheus Blue contrasting hue. Once you step into the cabin, the darkness continues to envelop the soul of this Goodwood-built machine. Rolls-Royce has utilized laboratory diamonds to coddle the Black Badge infinity symbol inside the car. Overhead you'll find 1,340 fiberoptic lights to create another diamond pattern. For the first time, the overhead lamps use graded intensity that shades or highlights the pattern presented overhead.\n",
      "A final luxurious touch occurs when one enters or exits the car. An illuminated sill plate reminds the owner that their vehicle is one of 30 or 40, depending on which model they've chosen.\n",
      "As more and more premium and luxury features filter down to vehicles within the means of the proletariat, it's up to Rolls-Royce to continually push the true luxury bar ever higher. The Adamas Collection cars do that, and they do so with a delightfully sinister air.\n",
      "==================================================\n",
      "Example 2:\n",
      "A San Bernardino man is behind bars after investigators said he sexually abused a 14-year-old and had an incestuous relationship with a family member, according to court records.\n",
      "David Kenneth Detjen, 47, was arrested Feb. 13 at this home in a cul de sac on Anson Street near Pacific Street and Del Rosa Avenue. He was booked and charged on suspicion of lewd acts with a child age 14 and incest for a sexual relationship with a 22-year-old family member, according to the criminal complaint filed in San Bernardino Superior court. The complaint did not identify the exact relationship between Detjen and the 22-year-old nor his connection to the 14-year-old.\n",
      "Detjen’s wife, Rebecca Sue Detjen, was arrested a few days prior on Feb. 10, and charged with suspicion of felony child abuse. Authorities did not comment how the incidents may be related, but the husband and wife were both listed in the same criminal complaint. The complaint did show the victim, only identified as Jane Doe, who was reported sexually abused by David Detjen has the same birthdate as the Jane Doe allegedly physically abused by Rebecca Detjen.\n",
      "San Bernardino County Sheriff’s investigators made the arrest, but details of the crimes were not immediately available.\n",
      "The couple pleaded not guilty to all charges Feb. 14 via video arraignment, court records show. They are expected to be back in court Tuesday for a hearing.\n",
      "A couple with the same names and birthdates as the Detjens was arrested in Indiana in 2012 for trying to drive from Pennsylvania to San Bernardino with five of their seven children and 18-caged cats in the back of a moving truck.\n",
      "According to USA Today, They family was struggling and didn’t have a car. They rented the truck in an effort to follow up on a possible job in San Bernardino.\n",
      "A family member in Pennsylvania called police to report the couple, worried for the children’s safety.\n",
      "According to Indiana State Police reports from the time, the children in the back of the truck ranged in age from 9 to 18.. A 14-year-old and a 15-year-old rode in the cab with the parents.\n",
      "Authorities said temperatures at the time of their arrest were below freezing, and although the children all had heavy clothing and sleeping bags, it was still extremely cold.\n",
      "In that case, the couple was sentenced to serve 18 months of probation after pleading guilty to neglect charges.\n",
      "The Detjens are currently being held at West Valley Detention Center in Rancho Cucamonga.\n",
      "==================================================\n",
      "Example 3:\n",
      "Event time: 7:30pm-11:00pm\n",
      "The Ricochettes perform \"The Best of The British Invasion\" era music for your listening and dancing pleasure.\n",
      "Price: $ 5\n",
      "==================================================\n",
      "Example 4:\n",
      "What are some of your favorite happy Father’s Day images?\n",
      "Source: Pixabay\n",
      "The holiday is celebrated on the third Sunday of June every year, which will land this coming Sunday, June 18 in 2017, or in four days. It is viewed by many as an important time when efforts are made to see family and show your dad how much you love him.\n",
      "In honor of Father’s Day, we have compiled eight of the best images for you to share online via social media, including Facebook, Instagram and Twitter. Pick one over the next few slides, and show the men in your family how important they are to you.\n",
      "Also, check out 10 of the best high-tech gifts dads will love this year.\n",
      "==================================================\n",
      "Example 5:\n",
      "Senator and Republican incumbent Ted Cruz is leading his Democrat opponent U.S. Rep. Beto O’Rourke in the race for Texas Senate, according to a Quinnipiac University Poll released Wednesday.\n",
      "In April, results from the same independent polling center had Cruz leading by only 3 points — 47 percent to 44 percent.\n",
      "The polling center called these results “too close to call.”\n",
      "“Democrats have had a target on Sen. Ted Cruz’s back, and they may be hitting the mark. Once expected to ‘cruise’ to reelection, the incumbent is in a tight race with Democratic U.S. Rep. Beto O’Rourke,” Peter A. Brown, assistant director of the Quinnipiac Poll, said in a statement.\n",
      "Now, almost exactly one month later, the poll results show Cruz leading by 11 points — 50 percent to 39 percent. The Texas senator is also leading among women voters, at 44 percent to 42 percent, up from last month when O’Rourke led 47 to 43 percent.\n",
      "TRENDING: ‘Terrible President:’ Former ACLU President Attacks Obama on Free Speech Issues\n",
      "The poll found Cruz’s biggest boost from men, with a lead of 57-35 percent, up from 51-40 percent in April.\n",
      "The poll found Cruz to be universally known within the state, with 49 of Texans polled viewed Cruz positively, while 38 percent had an unfavorable opinion of him.\n",
      "“O’Rourke, on the other hand, is still relatively unknown,” Texas Tribune reported. “Thirty percent of those surveyed had a positive view of him, while 19 percent had a negative impression of him. Fifty percent of those polled did not know who he was.”\n",
      "“Sen. Ted Cruz, apparently benefiting from a nationwide Republican mini-move, has taken a solid lead in his reelection race,” Brown said Wednesday.\n",
      "Do you think Ted Cruz will win the Texas Senate race this fall? Yes No Continue with Facebook -- or -- Completing this poll entitles you to The Western Journal news updates free of charge. You may opt out at anytime. You also agree to our Privacy Policy and Terms of Use You're logged in to Facebook. Click here to log out.\n",
      "“President Donald Trump’s Texas numbers also have climbed during those six weeks moving from a nine point deficit on job approval to an even split today. It is hard not to see a pro-Cruz effect there.”\n",
      "“Finally, U.S. Rep. Beto O’Rourke’s lead among independent voters has shrunk,” Brown added. “Sen. Cruz has improved his standing among some key groups, including independent voters, Hispanic voters and men.”\n",
      "As noted by National Review, Cruz’s lead among Hispanics is “is a troubling sign for O’Rourke, who has tailored his campaign around his advocacy for racial minorities.”\n",
      "Another judge has ruled against the administration’s efforts to end #DACA. We still need to pass a permanent solution that lifts the cloud of uncertainty hanging over the futures of Dreamers in Texas and across the country. https://t.co/ahDjX8E43o — Rep. Beto O'Rourke (@RepBetoORourke) April 25, 2018\n",
      "O’Rourke has led an aggressive fundraising campaign, raising $6.7 million in the first quarter of 2018.\n",
      "RELATED: Report: John McCain’s Wife To Succeed Him in the Senate\n",
      "“Most of the new money has … come from outside Texas, from national “Resistance” groups who have made Ted Cruz their top target in the 2018 midterm elections,” The Daily Wire reported.\n",
      "“O’Rourke also favors stricter gun control laws, and more permissive laws on abortion — two issues where even Democratic-leaning Texans side with Republicans.”\n",
      "Facebook has greatly reduced the distribution of our stories in our readers' newsfeeds and is instead promoting mainstream media sources. When you share to your friends, however, you greatly help distribute our content. Please take a moment and consider sharing this article with your friends and family. Thank you.\n",
      "==================================================\n"
     ]
    }
   ],
   "source": [
    "# Inspect the train split\n",
    "print(\"Inspecting Train Split:\")\n",
    "if TRAIN_SPLIT_DIR.exists():\n",
    "    load_and_inspect(TRAIN_SPLIT_DIR, num_examples=5)\n",
    "else:\n",
    "    print(\"Train split not found.\")\n"
   ]
  },
  {
   "cell_type": "code",
   "execution_count": 21,
   "metadata": {},
   "outputs": [
    {
     "name": "stdout",
     "output_type": "stream",
     "text": [
      "\n",
      "Inspecting Test Split:\n",
      "Loading dataset from: C:\\Users\\prite\\Desktop\\custom-bert-pretraining\\data\\split\\test\n",
      "Dataset contains 70825 examples.\n",
      "Displaying 5 examples:\n",
      "Example 1:\n",
      "The Masontown Water Works have issued an emergency announcement for part of Preston County.\n",
      "The Lumberport/Shinnston Gas Company hit a 10\" main water line that services the area East of Elkins Ave.\n",
      "This main line affects all customers from Elkins Ave., along Veterans Memorial Hwy to and including the Bretz, McKinney Cave Road and Giuliani Road area will be without water.\n",
      "Officials are currently working to fix the leak. There is no estimated time for the line to be fixed due to the size of the line.\n",
      "==================================================\n",
      "Example 2:\n",
      "April 12 Henan Province Xixia Auto-Pump Co Ltd :\n",
      "* Sees H1 FY 2017 net profit to increase by 50 percent to 90 percent, or to be 77.7 million yuan to 98.5 million yuan\n",
      "* Says H1 FY 2016 net profit was 51.8 million yuan\n",
      "* Says increased ratio of high-end products and decreasing investment scale as main reasons for the forecast\n",
      "Source text in Chinese: goo.gl/OQEB2h\n",
      "Further company coverage: (Beijing Headline News)\n",
      "==================================================\n",
      "Example 3:\n",
      "DUBAI Feb 13 Standard Chartered will consider whether it can restart correspondent banking relationships with Sudan following the proposed lifting of U.S. sanctions, a senior executive said.\n",
      "Anurag Bajaj, who oversees the British-based lender's correspondent banking business, where it provides services for other banks, said the bank was reviewing the implications of last month's move by the outgoing Obama administration to unfreeze assets and remove financial sanctions in return for its help in fighting Islamic State and other groups.\n",
      "The sanctions relief will come in six months if Sudan takes further steps to improve its human rights record and makes progress resolving its military conflicts.\n",
      "\"How significant the unravelling of the sanctions are [in Sudan] we will look at,\" Bajaj, Standard Chartered's global head of banks, transaction banking, told Reuters.\n",
      "\"Our sanctions team will review it before taking a decision,\" he added.\n",
      "For Sudan, the resumption of correspondent banking relationships will be vital to turning around its economy, which has struggled since South Sudan seceded in 2011, taking with it three-quarters of the country's oil output.\n",
      "But banks are likely to be cautious given the tougher immigration rules imposed by President Donald Trump on citizens from seven countries, including Sudan, that could affect the country's relations with the United States.\n",
      "Standard Chartered admitted in 2012 to breaking U.S. sanctions against Sudan, as well as Iran and Libya.\n",
      "Bajaj said Iran, which the Trump administration earlier this month imposed sanctions on following a ballistic missile test, remained off-limits for the bank as it was \"sanctioned.\"\n",
      "However, he added that while the bank had cut ties with some clients in other countries to guard against the risk of falling foul of rules on sanctions or money laundering, it was still only a \"minimal\" number in global terms.\n",
      "\"There's always the odd-one, rare client that will not match our risk appetite but there are also clients that we are growing our business with,\" he said. (Editing by Greg Mahlich)\n",
      "==================================================\n",
      "Example 4:\n",
      "Read the latest and breaking Hindi news on amarujala.com. Get live Hindi news about India and the World from politics, sports, bollywood, business, cities, lifestyle, astrology, spirituality, jobs and much more. Register with amarujala.com to get all the latest Hindi news updates as they happen.\n",
      "==================================================\n",
      "Example 5:\n",
      "KNOXVILLE, TENN. -\n",
      "A Tennessee woman’s video of her tearful son recounting being bullied at middle school has prompted a wave of support from athletes and entertainers.\n",
      "Kimberly Jones said in a Facebook post Friday she had just picked up her son, Keaton, from school because he was too afraid to go to lunch.\n",
      "In the video, Keaton said other students call him ugly, make fun of his nose and tell him he has no friends. He said milk was poured on him and ham was put down his clothes.\n",
      "“Just out of curiosity, why do they bully?” Keaton said. “What’s the point of it? Why do they find joy in taking innocent people and find a way to be mean to them? It’s not OK.\n",
      "“People that are different don’t need to be criticized about it. It’s not their fault. If you are made fun of, just don’t let it bother you.”\n",
      "The video had more than 18 million views as of Sunday, and a crowdsourcing page for Keaton’s future education had raised more than $29,000.\n",
      "“We all know how it feels to want to belong,” Jones said in her post, “but only a select few know how it really feels not to belong anywhere.”\n",
      "On Twitter, Tennessee Titans tight end Delanie Walker invited the Jones family to an upcoming game, while University of Tennessee wide receiver Tyler Byrd said he and several teammates plan to visit Keaton at school.\n",
      "Country music star Kelsea Ballerini tweeted that the next time she comes home to her native Knoxville, she wants to be with Keaton to witness the bullies apologize.\n",
      "Retired race car driver Dale Earnhardt Jr. said on Twitter he wants Keaton to “add me to your long list of friends,” and Snoop Dogg said on Instagram that Keaton “has a friend for life” and that “love is the only way to beat hate.”\n",
      "==================================================\n"
     ]
    }
   ],
   "source": [
    "# Inspect the test split\n",
    "print(\"\\nInspecting Test Split:\")\n",
    "if TEST_SPLIT_DIR.exists():\n",
    "    load_and_inspect(TEST_SPLIT_DIR, num_examples=5)\n",
    "else:\n",
    "    print(\"Test split not found.\")\n"
   ]
  },
  {
   "cell_type": "code",
   "execution_count": null,
   "metadata": {},
   "outputs": [],
   "source": []
  }
 ],
 "metadata": {
  "kernelspec": {
   "display_name": ".venv",
   "language": "python",
   "name": "python3"
  },
  "language_info": {
   "codemirror_mode": {
    "name": "ipython",
    "version": 3
   },
   "file_extension": ".py",
   "mimetype": "text/x-python",
   "name": "python",
   "nbconvert_exporter": "python",
   "pygments_lexer": "ipython3",
   "version": "3.11.9"
  }
 },
 "nbformat": 4,
 "nbformat_minor": 2
}
